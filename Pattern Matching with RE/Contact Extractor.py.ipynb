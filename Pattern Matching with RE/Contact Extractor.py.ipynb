{
 "cells": [
  {
   "cell_type": "code",
   "execution_count": 1,
   "metadata": {},
   "outputs": [
    {
     "ename": "ModuleNotFoundError",
     "evalue": "No module named 'pyperclip'",
     "output_type": "error",
     "traceback": [
      "\u001b[1;31m---------------------------------------------------------------------------\u001b[0m",
      "\u001b[1;31mModuleNotFoundError\u001b[0m                       Traceback (most recent call last)",
      "\u001b[1;32m<ipython-input-1-6411cca5d2e1>\u001b[0m in \u001b[0;36m<module>\u001b[1;34m\u001b[0m\n\u001b[1;32m----> 1\u001b[1;33m \u001b[1;32mimport\u001b[0m \u001b[0mpyperclip\u001b[0m\u001b[1;33m,\u001b[0m \u001b[0mre\u001b[0m\u001b[1;33m\u001b[0m\u001b[0m\n\u001b[0m\u001b[0;32m      2\u001b[0m \u001b[1;31m# create regex for phoneNumber\u001b[0m\u001b[1;33m\u001b[0m\u001b[1;33m\u001b[0m\u001b[0m\n\u001b[0;32m      3\u001b[0m phoneRegex = re.compile(r'''(\n\u001b[0;32m      4\u001b[0m ( (\\d{3}|\\(\\d{3}\\))? # area code\n\u001b[0;32m      5\u001b[0m  \u001b[1;33m(\u001b[0m\u001b[0;31m\\\u001b[0m\u001b[0ms\u001b[0m\u001b[1;33m|\u001b[0m\u001b[1;33m-\u001b[0m\u001b[1;33m|\u001b[0m\u001b[0;31m\\\u001b[0m\u001b[1;33m.\u001b[0m\u001b[1;33m)\u001b[0m\u001b[0;31m?\u001b[0m \u001b[1;31m# separator\u001b[0m\u001b[1;33m\u001b[0m\u001b[0m\n",
      "\u001b[1;31mModuleNotFoundError\u001b[0m: No module named 'pyperclip'"
     ]
    }
   ],
   "source": [
    "import pyperclip, re\n",
    "# create regex for phoneNumber\n",
    "phoneRegex = re.compile(r'''(\n",
    "( (\\d{3}|\\(\\d{3}\\))? # area code\n",
    " (\\s|-|\\.)? # separator\n",
    " (\\d{3}) # first 3 digits\n",
    " (\\s|-|\\.) # separator\n",
    " (\\d{4}) # last 4 digits\n",
    " (\\s*(ext|x|ext.)\\s*(\\d{2,5}))? # extension\n",
    " ))''', re.VERBOSE)\n",
    "\n",
    "# Create a regex for emails\n",
    "\n",
    "# Create email regex.\n",
    "emailRegex = re.compile(r'''(\n",
    "[a-zA-Z0-9._%+-]+ # username (own char class)\n",
    "@ # @ symbol\n",
    "[a-zA-Z0-9.-]+ # domain name\n",
    "(\\.[a-zA-Z]{2,4}) # dot-something\n",
    ")''', re.VERBOSE)\n",
    "\n",
    "# Get the text off the clipboard\n",
    "text = pyperclip.paste()\n",
    "\n",
    "\n",
    "# Extract the mail from this text\n",
    "extractedPhone = phoneRegex.findall(text)\n",
    "extractedEmail = emailRegex.findall(text)\n",
    "\n",
    "allPhoneNumbers = []\n",
    "for phoneNumber in extractedPhone:\n",
    "    allPhoneNumbers.append(phone[0])\n",
    "    \n",
    "    \n",
    "#copy the extracted  mail/num to clipboard\n",
    "results = '\\n' .join(allPhoneNumbers) +'\\n' + '\\n' .join(extractedEmail)\n",
    "pyperclip.copy(results)"
   ]
  }
 ],
 "metadata": {
  "kernelspec": {
   "display_name": "Python 3",
   "language": "python",
   "name": "python3"
  },
  "language_info": {
   "codemirror_mode": {
    "name": "ipython",
    "version": 3
   },
   "file_extension": ".py",
   "mimetype": "text/x-python",
   "name": "python",
   "nbconvert_exporter": "python",
   "pygments_lexer": "ipython3",
   "version": "3.6.5"
  }
 },
 "nbformat": 4,
 "nbformat_minor": 2
}
