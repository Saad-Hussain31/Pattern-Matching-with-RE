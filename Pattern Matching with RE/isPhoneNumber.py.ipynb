{
 "cells": [
  {
   "cell_type": "code",
   "execution_count": 13,
   "metadata": {},
   "outputs": [
    {
     "name": "stdout",
     "output_type": "stream",
     "text": [
      "Done\n"
     ]
    }
   ],
   "source": [
    "def isPhoneNumber(text):\n",
    "    if len(text) != 12:\n",
    "        return False\n",
    "    for i in range (0,3):\n",
    "        if not text[i].isdecimal():\n",
    "            return False\n",
    "    if text[3] != '-':\n",
    "        return False\n",
    "    for i in range(4,7):\n",
    "        if not text[i].isdecimal():\n",
    "            return False\n",
    "    if text[7] != '-':\n",
    "        return False\n",
    "    for i in range (8,12):\n",
    "        if text[i].isdecimal():\n",
    "            return False\n",
    "    return True\n",
    "\n",
    "# print(\"415-555-4242 is a phone number\")\n",
    "# print(isPhoneNumber('415-555-4242'))\n",
    "# print('Moshi Moshi is a phone number:')\n",
    "# print(isPhoneNumber('Moshi Moshi'))\n",
    "\n",
    "msg = \"Call me at 415-555-1011 tom. 415-555-9999 is my office.\"\n",
    "for i in range(len(msg)):\n",
    "    chunk = msg[i:i+12]\n",
    "    if isPhoneNumber(chunk):\n",
    "        print(\"Phone number found: \" +chunk)\n",
    "print(\"Done\")\n",
    "\n",
    "# On each iteration of the for loop, a new chunk of 12 characters from\n",
    "# message is assigned to the variable chunk u. For example, on the first iteration,\n",
    "# i is 0, and chunk is assigned message[0:12] (that is, the string 'Call me at 4').\n",
    "# On the next iteration, i is 1, and chunk is assigned message[1:13] (the string\n",
    "# 'all me at 41')."
   ]
  },
  {
   "cell_type": "code",
   "execution_count": 72,
   "metadata": {},
   "outputs": [
    {
     "name": "stdout",
     "output_type": "stream",
     "text": [
      "415\n",
      "555-4242\n",
      "415-555-4242\n",
      "('415', '555-4242')\n",
      "415\n",
      "555-4242\n"
     ]
    }
   ],
   "source": [
    "import re\n",
    "phoneNumRegex = re.compile(r'(\\d\\d\\d)-(\\d\\d\\d-\\d\\d\\d\\d)') #Now the phoneNumRegex variable contains a Regex object\n",
    "mo = phoneNumRegex.search('My number is 415-555-4242.')\n",
    "# print('Phone number found: ' + mo.group())\n",
    "print(mo.group(1))\n",
    "print(mo.group(2))\n",
    "print(mo.group())\n",
    "print(mo.groups()) #mo.groups() returns a tuple of multiple values\n",
    "\n",
    "areaCode , mainNumber = mo.groups()\n",
    "print(areaCode)\n",
    "print(mainNumber)\n"
   ]
  },
  {
   "cell_type": "code",
   "execution_count": 56,
   "metadata": {},
   "outputs": [
    {
     "name": "stdout",
     "output_type": "stream",
     "text": [
      "Batman\n",
      "Tina Fey\n"
     ]
    }
   ],
   "source": [
    " #When both Batman and Tina Fey occur in the searched string, the first\n",
    "#occurrence of matching text will be returned \n",
    "\n",
    "\n",
    "#MATCHING MULTIPLE GROUPS WITH THE PIPE\n",
    "\n",
    "\n",
    "heroRegex = re.compile (r'Batman|Tina Fey')\n",
    "mo1 = heroRegex.search('Batman and Tina Fey.')\n",
    "print(mo1.group())\n",
    "\n",
    "mo2 = heroRegex.search('Tina Fey and Batman.')\n",
    "print(mo2.group())\n",
    "\n",
    "\n"
   ]
  },
  {
   "cell_type": "code",
   "execution_count": 66,
   "metadata": {},
   "outputs": [
    {
     "name": "stdout",
     "output_type": "stream",
     "text": [
      "Batman\n",
      "Batwoman\n",
      "415-555-4242\n",
      "555-4242\n"
     ]
    }
   ],
   "source": [
    "# Optional Matching with the Question Mark\n",
    "\n",
    "batRegex = re.compile(r'Bat(wo)?man')\n",
    "mo1 = batRegex.search('The Adventures of Batman')\n",
    "print(mo1.group())\n",
    "mo2 = batRegex.search('The Adventures of Batwoman')\n",
    "print(mo2.group())\n",
    "#The (wo)? part of the regular expression means that the pattern wo is\n",
    "# an optional group.\n",
    "\n",
    "phoneRegex = re.compile(r'(\\d\\d\\d-)?\\d\\d\\d-\\d\\d\\d\\d')\n",
    "mo1 = phoneRegex.search('My number is 415-555-4242')\n",
    "print(mo1.group())\n",
    "\n",
    "mo2 = phoneRegex.search('My number is 555-4242')\n",
    "print(mo2.group())"
   ]
  },
  {
   "cell_type": "code",
   "execution_count": 77,
   "metadata": {},
   "outputs": [
    {
     "data": {
      "text/plain": [
       "'Batwowowowoman'"
      ]
     },
     "execution_count": 77,
     "metadata": {},
     "output_type": "execute_result"
    }
   ],
   "source": [
    "# Matching Zero or More with the Star\n",
    "# The *  means “match zero or more”—the group\n",
    "# that precedes the star can occur any number of times in the text. It can be\n",
    "# completely absent or repeated over and over again.\n",
    "\n",
    "batRegex = re.compile(r'Bat(wo)*man')\n",
    "mo1 = batRegex.search('The adventures of Batwoman')\n",
    "mo1.group()\n",
    "\n",
    "mo2 = batRegex.search('The adventures of Batwowowowoman')\n",
    "mo2.group()"
   ]
  },
  {
   "cell_type": "code",
   "execution_count": 97,
   "metadata": {},
   "outputs": [
    {
     "name": "stdout",
     "output_type": "stream",
     "text": [
      "HaHaHaHaHa\n",
      "HaHaHa\n"
     ]
    }
   ],
   "source": [
    "# Greedy and Nongreedy Matching\n",
    "\n",
    "# Python’s regular expressions are greedy by default, which means that in\n",
    "# ambiguous situations they will match the longest string possible. The nongreedy version of the curly brackets, which matches the shortest string possible\n",
    "#  has the closing curly bracket followed by a question mark.\n",
    "\n",
    "greedyHaRegex = re.compile(r'(Ha){3,5}')\n",
    "mo1 = greedyHaRegex.search('HaHaHaHaHa')\n",
    "print(mo1.group())\n",
    "\n",
    "nongreedyHaRegex = re.compile(r'(Ha){3,5}?')\n",
    "mo2 = nongreedyHaRegex.search('HaHaHaHaHa')\n",
    "print(mo2.group())"
   ]
  },
  {
   "cell_type": "code",
   "execution_count": 81,
   "metadata": {},
   "outputs": [],
   "source": [
    "# THE FINDALL()\n",
    "\n",
    "# To summarize what the findall() method returns, remember the\n",
    "# following:\n",
    "# 1. When called on a regex with no groups, such as \\d\\d\\d-\\d\\d\\d-\\d\\d\\d\\d,\n",
    "# the method findall() returns a list of string matches, such as ['415-555-\n",
    "# 9999', '212-555-0000'].\n",
    "# 2. When called on a regex that has groups, such as (\\d\\d\\d)-(\\d\\d\\d)-(\\d\\\n",
    "# d\\d\\d), the method findall() returns a list of tuples of strings (one string\n",
    "# for each group), such as [('415', '555', '1122'), ('212', '555', '0000')]."
   ]
  },
  {
   "cell_type": "code",
   "execution_count": 84,
   "metadata": {},
   "outputs": [
    {
     "data": {
      "text/plain": [
       "['12 drummers',\n",
       " '11 pipers',\n",
       " '10 lords',\n",
       " '9 ladies',\n",
       " '8 maids',\n",
       " '6 geese',\n",
       " '5 rings',\n",
       " '4 birds',\n",
       " '3 hens',\n",
       " '2 doves',\n",
       " '1 partridge']"
      ]
     },
     "execution_count": 84,
     "metadata": {},
     "output_type": "execute_result"
    }
   ],
   "source": [
    "xmasRegex = re.compile(r'\\d+\\s\\w+')\n",
    "xmasRegex.findall('12 drummers, 11 pipers, 10 lords, 9 ladies, 8 maids, 7swans, 6 geese, 5 rings, 4 birds, 3 hens, 2 doves, 1 partridge')"
   ]
  },
  {
   "cell_type": "code",
   "execution_count": 86,
   "metadata": {},
   "outputs": [
    {
     "data": {
      "text/plain": [
       "['o', 'o', 'o', 'e', 'a', 'a', 'o', 'o', 'A', 'O', 'O']"
      ]
     },
     "execution_count": 86,
     "metadata": {},
     "output_type": "execute_result"
    }
   ],
   "source": [
    "# #Making Your Own Character Classes\n",
    "\n",
    "# #You can define\n",
    "# your own character class using square brackets. For example, the character\n",
    "# class [aeiouAEIOU] will match any vowel, both lowercase and uppercase.\n",
    "\n",
    "vowelRegex = re.compile(r'[aeiouAEIOU]')\n",
    "vowelRegex.findall('RoboCop eats baby food. BABY FOOD.')"
   ]
  },
  {
   "cell_type": "code",
   "execution_count": 88,
   "metadata": {},
   "outputs": [
    {
     "data": {
      "text/plain": [
       "['R',\n",
       " 'b',\n",
       " 'C',\n",
       " 'p',\n",
       " ' ',\n",
       " 't',\n",
       " 's',\n",
       " ' ',\n",
       " 'b',\n",
       " 'b',\n",
       " 'y',\n",
       " ' ',\n",
       " 'f',\n",
       " 'd',\n",
       " '.',\n",
       " ' ',\n",
       " 'B',\n",
       " 'B',\n",
       " 'Y',\n",
       " ' ',\n",
       " 'F',\n",
       " 'D',\n",
       " '.']"
      ]
     },
     "execution_count": 88,
     "metadata": {},
     "output_type": "execute_result"
    }
   ],
   "source": [
    "# #CARET CHARACTER\n",
    "\n",
    "# By placing a caret character (^) just after the character class’s opening\n",
    "# bracket, you can make a negative character class.\n",
    "\n",
    "consonantRegex = re.compile(r'[^aeiouAEIOU]')\n",
    "consonantRegex.findall('RoboCop eats baby food. BABY FOOD.')\n"
   ]
  },
  {
   "cell_type": "code",
   "execution_count": 95,
   "metadata": {},
   "outputs": [
    {
     "data": {
      "text/plain": [
       "['cat', 'hat', 'sat', 'lat', 'mat']"
      ]
     },
     "execution_count": 95,
     "metadata": {},
     "output_type": "execute_result"
    }
   ],
   "source": [
    "atRegex = re.compile(r'.at')\n",
    "atRegex.findall('The cat in the hat sat on the flat mat.')"
   ]
  }
 ],
 "metadata": {
  "kernelspec": {
   "display_name": "Python 3",
   "language": "python",
   "name": "python3"
  },
  "language_info": {
   "codemirror_mode": {
    "name": "ipython",
    "version": 3
   },
   "file_extension": ".py",
   "mimetype": "text/x-python",
   "name": "python",
   "nbconvert_exporter": "python",
   "pygments_lexer": "ipython3",
   "version": "3.6.5"
  }
 },
 "nbformat": 4,
 "nbformat_minor": 2
}
